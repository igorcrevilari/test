{
 "cells": [
  {
   "cell_type": "markdown",
   "id": "c4e102e4-5da7-4462-bbd3-b966815cd380",
   "metadata": {},
   "source": [
    "# INSTALANDO PACOTES\n",
    "<hr>\n",
    "\n",
    "<b>pip install pyautogui</b> - Automatiza teclado e outras E/S<br/>\n",
    "<b>pip install webbrowser</b> - Permite abrir o navegador <br/>\n",
    "<b>pip install urllib</b> - Criptografa o texto para o padrão que o WhatsApp usa em URL <br/>\n",
    "<b>pip install pandas</b> - Lê o arquivo .xlsx <br/>"
   ]
  },
  {
   "cell_type": "code",
   "execution_count": 76,
   "id": "0554105f-a784-41e8-a463-ec980652855b",
   "metadata": {},
   "outputs": [
    {
     "name": "stdout",
     "output_type": "stream",
     "text": [
      "Número não encontrado. Tomando ação apropriada.\n",
      "Mensagem enviada.\n",
      "Número não encontrado. Tomando ação apropriada.\n",
      "Mensagem enviada.\n",
      "Número não encontrado. Tomando ação apropriada.\n",
      "Mensagem enviada.\n",
      "Número não encontrado. Tomando ação apropriada.\n",
      "Mensagem enviada.\n",
      "Número não encontrado. Tomando ação apropriada.\n",
      "Mensagem enviada.\n",
      "Número não encontrado. Tomando ação apropriada.\n"
     ]
    },
    {
     "ename": "NameError",
     "evalue": "name 'NoSuchElementException' is not defined",
     "output_type": "error",
     "traceback": [
      "\u001b[1;31m---------------------------------------------------------------------------\u001b[0m",
      "\u001b[1;31mElementNotInteractableException\u001b[0m           Traceback (most recent call last)",
      "Cell \u001b[1;32mIn[76], line 53\u001b[0m\n\u001b[0;32m     52\u001b[0m send_button \u001b[38;5;241m=\u001b[39m navegador\u001b[38;5;241m.\u001b[39mfind_element(By\u001b[38;5;241m.\u001b[39mXPATH, \u001b[38;5;124m'\u001b[39m\u001b[38;5;124m//*[@id=\u001b[39m\u001b[38;5;124m\"\u001b[39m\u001b[38;5;124mmain\u001b[39m\u001b[38;5;124m\"\u001b[39m\u001b[38;5;124m]/footer/div[1]/div/span[2]/div/div[2]/div[2]/button/span\u001b[39m\u001b[38;5;124m'\u001b[39m)\n\u001b[1;32m---> 53\u001b[0m \u001b[43msend_button\u001b[49m\u001b[38;5;241;43m.\u001b[39;49m\u001b[43mclick\u001b[49m\u001b[43m(\u001b[49m\u001b[43m)\u001b[49m\n\u001b[0;32m     54\u001b[0m \u001b[38;5;28mprint\u001b[39m(\u001b[38;5;124m\"\u001b[39m\u001b[38;5;124mMensagem enviada.\u001b[39m\u001b[38;5;124m\"\u001b[39m)\n",
      "File \u001b[1;32m~\\AppData\\Local\\Programs\\Python\\Python312\\Lib\\site-packages\\selenium\\webdriver\\remote\\webelement.py:94\u001b[0m, in \u001b[0;36mWebElement.click\u001b[1;34m(self)\u001b[0m\n\u001b[0;32m     93\u001b[0m \u001b[38;5;250m\u001b[39m\u001b[38;5;124;03m\"\"\"Clicks the element.\"\"\"\u001b[39;00m\n\u001b[1;32m---> 94\u001b[0m \u001b[38;5;28;43mself\u001b[39;49m\u001b[38;5;241;43m.\u001b[39;49m\u001b[43m_execute\u001b[49m\u001b[43m(\u001b[49m\u001b[43mCommand\u001b[49m\u001b[38;5;241;43m.\u001b[39;49m\u001b[43mCLICK_ELEMENT\u001b[49m\u001b[43m)\u001b[49m\n",
      "File \u001b[1;32m~\\AppData\\Local\\Programs\\Python\\Python312\\Lib\\site-packages\\selenium\\webdriver\\remote\\webelement.py:395\u001b[0m, in \u001b[0;36mWebElement._execute\u001b[1;34m(self, command, params)\u001b[0m\n\u001b[0;32m    394\u001b[0m params[\u001b[38;5;124m\"\u001b[39m\u001b[38;5;124mid\u001b[39m\u001b[38;5;124m\"\u001b[39m] \u001b[38;5;241m=\u001b[39m \u001b[38;5;28mself\u001b[39m\u001b[38;5;241m.\u001b[39m_id\n\u001b[1;32m--> 395\u001b[0m \u001b[38;5;28;01mreturn\u001b[39;00m \u001b[38;5;28;43mself\u001b[39;49m\u001b[38;5;241;43m.\u001b[39;49m\u001b[43m_parent\u001b[49m\u001b[38;5;241;43m.\u001b[39;49m\u001b[43mexecute\u001b[49m\u001b[43m(\u001b[49m\u001b[43mcommand\u001b[49m\u001b[43m,\u001b[49m\u001b[43m \u001b[49m\u001b[43mparams\u001b[49m\u001b[43m)\u001b[49m\n",
      "File \u001b[1;32m~\\AppData\\Local\\Programs\\Python\\Python312\\Lib\\site-packages\\selenium\\webdriver\\remote\\webdriver.py:347\u001b[0m, in \u001b[0;36mWebDriver.execute\u001b[1;34m(self, driver_command, params)\u001b[0m\n\u001b[0;32m    346\u001b[0m \u001b[38;5;28;01mif\u001b[39;00m response:\n\u001b[1;32m--> 347\u001b[0m     \u001b[38;5;28;43mself\u001b[39;49m\u001b[38;5;241;43m.\u001b[39;49m\u001b[43merror_handler\u001b[49m\u001b[38;5;241;43m.\u001b[39;49m\u001b[43mcheck_response\u001b[49m\u001b[43m(\u001b[49m\u001b[43mresponse\u001b[49m\u001b[43m)\u001b[49m\n\u001b[0;32m    348\u001b[0m     response[\u001b[38;5;124m\"\u001b[39m\u001b[38;5;124mvalue\u001b[39m\u001b[38;5;124m\"\u001b[39m] \u001b[38;5;241m=\u001b[39m \u001b[38;5;28mself\u001b[39m\u001b[38;5;241m.\u001b[39m_unwrap_value(response\u001b[38;5;241m.\u001b[39mget(\u001b[38;5;124m\"\u001b[39m\u001b[38;5;124mvalue\u001b[39m\u001b[38;5;124m\"\u001b[39m, \u001b[38;5;28;01mNone\u001b[39;00m))\n",
      "File \u001b[1;32m~\\AppData\\Local\\Programs\\Python\\Python312\\Lib\\site-packages\\selenium\\webdriver\\remote\\errorhandler.py:229\u001b[0m, in \u001b[0;36mErrorHandler.check_response\u001b[1;34m(self, response)\u001b[0m\n\u001b[0;32m    228\u001b[0m     \u001b[38;5;28;01mraise\u001b[39;00m exception_class(message, screen, stacktrace, alert_text)  \u001b[38;5;66;03m# type: ignore[call-arg]  # mypy is not smart enough here\u001b[39;00m\n\u001b[1;32m--> 229\u001b[0m \u001b[38;5;28;01mraise\u001b[39;00m exception_class(message, screen, stacktrace)\n",
      "\u001b[1;31mElementNotInteractableException\u001b[0m: Message: element not interactable\n  (Session info: chrome=125.0.6422.77)\nStacktrace:\n\tGetHandleVerifier [0x00007FF7840A1F22+60322]\n\t(No symbol) [0x00007FF78401CE99]\n\t(No symbol) [0x00007FF783ED7CE9]\n\t(No symbol) [0x00007FF783F289C2]\n\t(No symbol) [0x00007FF783F1B491]\n\t(No symbol) [0x00007FF783F4C21A]\n\t(No symbol) [0x00007FF783F1ADB6]\n\t(No symbol) [0x00007FF783F4C430]\n\t(No symbol) [0x00007FF783F6BC80]\n\t(No symbol) [0x00007FF783F4BFC3]\n\t(No symbol) [0x00007FF783F19617]\n\t(No symbol) [0x00007FF783F1A211]\n\tGetHandleVerifier [0x00007FF7843B946D+3301613]\n\tGetHandleVerifier [0x00007FF784403693+3605267]\n\tGetHandleVerifier [0x00007FF7843F9410+3563664]\n\tGetHandleVerifier [0x00007FF7841542F6+790390]\n\t(No symbol) [0x00007FF7840274DF]\n\t(No symbol) [0x00007FF7840233D4]\n\t(No symbol) [0x00007FF784023562]\n\t(No symbol) [0x00007FF784012F6F]\n\tBaseThreadInitThunk [0x00007FFD09897344+20]\n\tRtlUserThreadStart [0x00007FFD0B5626B1+33]\n",
      "\nDuring handling of the above exception, another exception occurred:\n",
      "\u001b[1;31mNameError\u001b[0m                                 Traceback (most recent call last)",
      "Cell \u001b[1;32mIn[76], line 55\u001b[0m\n\u001b[0;32m     53\u001b[0m         send_button\u001b[38;5;241m.\u001b[39mclick()\n\u001b[0;32m     54\u001b[0m         \u001b[38;5;28mprint\u001b[39m(\u001b[38;5;124m\"\u001b[39m\u001b[38;5;124mMensagem enviada.\u001b[39m\u001b[38;5;124m\"\u001b[39m)\n\u001b[1;32m---> 55\u001b[0m     \u001b[38;5;28;01mexcept\u001b[39;00m \u001b[43mNoSuchElementException\u001b[49m:\n\u001b[0;32m     56\u001b[0m         \u001b[38;5;28mprint\u001b[39m(\u001b[38;5;124m\"\u001b[39m\u001b[38;5;124mBotão de enviar mensagem não encontrado.\u001b[39m\u001b[38;5;124m\"\u001b[39m)\n\u001b[0;32m     57\u001b[0m \u001b[38;5;28;01melse\u001b[39;00m:\n",
      "\u001b[1;31mNameError\u001b[0m: name 'NoSuchElementException' is not defined"
     ]
    }
   ],
   "source": [
    "#importando arquivos\n",
    "import pyautogui\n",
    "from time import sleep\n",
    "import pandas as pd\n",
    "from urllib.parse import quote\n",
    "import selenium\n",
    "from selenium import webdriver\n",
    "from selenium.webdriver.common.keys import Keys\n",
    "\n",
    "relatorio = pd.read_excel('phishing.xlsx') #importa o arquivo\n",
    "\n",
    "#Tratando link \n",
    "for linha in relatorio.index:\n",
    "    url_hash = \"http://testefieb.meusite.space/?rid=\"\n",
    "    hashId = str(relatorio.loc[linha, \"link\"])\n",
    "    url_hash = url_hash + hashId\n",
    "    relatorio.loc[linha, \"link\"] = url_hash\n",
    "\n",
    "#Iniciando navegador para LOGIN no WhatsApp Web\n",
    "navegador = webdriver.Chrome()\n",
    "navegador.get(\"https://web.whatsapp.com/\")\n",
    "\n",
    "# esperar a tela do whatsapp carregar -> espera um elemento que só existe na tela já carregada aparecer\n",
    "while len(navegador.find_elements(By.ID, 'side')) < 1: # -> lista for vazia -> que o elemento não existe ainda\n",
    "    sleep(1)\n",
    "\n",
    "#iteração para ler linha por linha\n",
    "for linha in relatorio.index:\n",
    "    #linha[x] - o \"x\" se refere a coluna lida na linha\n",
    "    telefone = relatorio.loc[linha, \"whatsapp\"]\n",
    "    nome = relatorio.loc[linha, \"nome\"]\n",
    "    link = relatorio.lock[linha, \"link\"]\n",
    "\n",
    "    mensagem = (f\"Olá, {nome}! Atualize o seu e-mail corporativo, com as novas regras de atualizações você poderá perder o acesso a conta.\\n\"\n",
    "        f\"Acesse o link abaixo para a atualização do Teams:\\n\"\n",
    "        f\"{link}\")\n",
    "    url_whatsapp = f\"https://web.whatsapp.com/send?phone={telefone}=&text={quote(mensagem)}\" #o método quote irá criptografar o conteúdo da variável mensagem\n",
    "\n",
    "    #Para funcionar, o WhatsApp Web deverá estar logado\n",
    "    navegador.get(url_whatsapp)\n",
    "    sleep(10)\n",
    "\n",
    "    # esperar a tela do whatsapp carregar -> espera um elemento que só existe na tela já carregada aparecer\n",
    "    while len(navegador.find_elements(By.ID, 'side')) < 1: # -> lista for vazia -> que o elemento não existe ainda\n",
    "        sleep(1)\n",
    "    sleep(5)\n",
    "\n",
    "    if len(navegador.find_elements(By.XPATH, '//*[@id=\"app\"]/div/span[2]/div/span/div/div/div/div/div/div[1]')) < 1:\n",
    "        # Número não existe, tomar a ação apropriada\n",
    "        print(\"Número encontrado. Continuando com a automação.\")\n",
    "        # Exemplo de ação: clicar no botão de enviar mensagem\n",
    "        try:\n",
    "            send_button = navegador.find_element(By.XPATH, '//*[@id=\"main\"]/footer/div[1]/div/span[2]/div/div[2]/div[2]/button/span')\n",
    "            send_button.click()\n",
    "            print(\"Mensagem enviada.\")\n",
    "        except NoSuchElementException:\n",
    "            print(\"Botão de enviar mensagem não encontrado.\")\n",
    "    else:\n",
    "        print(\"Número não encontrado. Tomando ação apropriada.\")\n",
    "    sleep(15)"
   ]
  },
  {
   "cell_type": "code",
   "execution_count": null,
   "id": "16d605c3-4ff1-4a2a-ac4e-d21758b6bc72",
   "metadata": {},
   "outputs": [],
   "source": []
  }
 ],
 "metadata": {
  "kernelspec": {
   "display_name": "Python 3 (ipykernel)",
   "language": "python",
   "name": "python3"
  },
  "language_info": {
   "codemirror_mode": {
    "name": "ipython",
    "version": 3
   },
   "file_extension": ".py",
   "mimetype": "text/x-python",
   "name": "python",
   "nbconvert_exporter": "python",
   "pygments_lexer": "ipython3",
   "version": "3.12.3"
  }
 },
 "nbformat": 4,
 "nbformat_minor": 5
}
